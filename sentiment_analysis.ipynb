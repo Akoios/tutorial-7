{
 "cells": [
  {
   "cell_type": "markdown",
   "metadata": {
    "colab": {},
    "colab_type": "code",
    "id": "Bvq8ryiqCYjS"
   },
   "source": [
    "```yaml\n",
    "titan: v1\n",
    "service:\n",
    "  image: tensorflow\n",
    "  machine:\n",
    "    cpu: 2\n",
    "    memory: 1024MB\n",
    "```"
   ]
  },
  {
   "cell_type": "code",
   "execution_count": 27,
   "metadata": {
    "colab": {
     "base_uri": "https://localhost:8080/",
     "height": 272
    },
    "colab_type": "code",
    "id": "h-jGJN7iB70O",
    "outputId": "290f500a-ebc6-49ea-c84d-3ab56ce3df3c"
   },
   "outputs": [],
   "source": [
    "import pandas as pd\n",
    "import json\n",
    "import re\n",
    "import tweepy as tw\n",
    "from nltk.corpus import stopwords\n",
    "from textblob import TextBlob"
   ]
  },
  {
   "cell_type": "code",
   "execution_count": 28,
   "metadata": {},
   "outputs": [],
   "source": [
    "consumer_key= 'your consumer_key here'\n",
    "consumer_secret= 'your consumer_secret here'\n",
    "access_token= 'your access token here'\n",
    "access_token_secret= 'your access token secret here'"
   ]
  },
  {
   "cell_type": "code",
   "execution_count": 29,
   "metadata": {
    "colab": {},
    "colab_type": "code",
    "id": "5zWAJXF8CbdA"
   },
   "outputs": [],
   "source": [
    "auth = tw.OAuthHandler(consumer_key, consumer_secret)\n",
    "auth.set_access_token(access_token, access_token_secret)\n",
    "api = tw.API(auth, wait_on_rate_limit=True)"
   ]
  },
  {
   "cell_type": "code",
   "execution_count": 30,
   "metadata": {
    "colab": {},
    "colab_type": "code",
    "id": "i41dsS5Ltc3N"
   },
   "outputs": [],
   "source": [
    "def remove_url(txt):\n",
    "    return \" \".join(re.sub(\"([^0-9A-Za-z \\t])|(\\w+:\\/\\/\\S+)\", \"\", txt).split())"
   ]
  },
  {
   "cell_type": "code",
   "execution_count": 31,
   "metadata": {
    "colab": {},
    "colab_type": "code",
    "id": "KOHctn-HtgeR"
   },
   "outputs": [],
   "source": [
    "def get_tweets(search_term, amount, lang, date):\n",
    "\n",
    "  tweets = tw.Cursor(api.search,\n",
    "                   q=search_term,\n",
    "                   lang=lang,\n",
    "                   since=date).items(amount)\n",
    "  \n",
    "  if not tweets:\n",
    "    raise TypeError('Error: not enough tweets available for your request. Please change your query')\n",
    "  \n",
    "  return tweets"
   ]
  },
  {
   "cell_type": "code",
   "execution_count": 32,
   "metadata": {
    "colab": {},
    "colab_type": "code",
    "id": "qY6IS4ihYQLQ"
   },
   "outputs": [],
   "source": [
    "def show_result(mean_sentiment):\n",
    " \n",
    "  if mean_sentiment > 0.5:\n",
    "    print('%8.2f Very Positive Sentiment' % (mean_sentiment))\n",
    "  elif mean_sentiment >= 0.25 and mean_sentiment <= 0.5:\n",
    "    print('%8.2f Positive Sentiment' % (mean_sentiment))\n",
    "  elif mean_sentiment >= 0.0 and mean_sentiment <= 0.25:\n",
    "    print('%8.2f Slightly Positive Sentiment' % (mean_sentiment))\n",
    "  elif mean_sentiment < 0.0 and mean_sentiment >= -0.25:\n",
    "    print('%8.2f Slightly Negative Sentiment' % (mean_sentiment))\n",
    "  elif mean_sentiment < -0.25 and mean_sentiment >= -0.5:\n",
    "    print('%8.2f Negative Sentiment' % (mean_sentiment))\n",
    "  elif mean_sentiment < -0.5: \n",
    "    print('%8.2f Very Negative Sentiment' % (mean_sentiment))"
   ]
  },
  {
   "cell_type": "code",
   "execution_count": 33,
   "metadata": {
    "colab": {},
    "colab_type": "code",
    "id": "FAV1iUOFWzM_"
   },
   "outputs": [],
   "source": [
    "# Mock request object for local API testing\n",
    "args = {\n",
    "    'param': ['#bitcoin']\n",
    "}\n",
    "REQUEST = json.dumps({ 'args': args })"
   ]
  },
  {
   "cell_type": "code",
   "execution_count": 34,
   "metadata": {
    "colab": {
     "base_uri": "https://localhost:8080/",
     "height": 34
    },
    "colab_type": "code",
    "id": "81DVzncwXBQD",
    "outputId": "94bae359-5337-46f9-e56e-5b4c65434723"
   },
   "outputs": [
    {
     "name": "stdout",
     "output_type": "stream",
     "text": [
      "    0.09 Slightly Positive Sentiment\n"
     ]
    }
   ],
   "source": [
    "# POST /sentiment\n",
    "status = 200\n",
    "location = None\n",
    "content_type = 'application/json'\n",
    "lang = 'en'\n",
    "since = '2020-01-01'\n",
    "amount = 100\n",
    "\n",
    "try:\n",
    "    \n",
    "    request = json.loads(REQUEST)\n",
    "    args = request.get('args', {})\n",
    "    search_term = args.get('param', args.get('text', None))\n",
    " \n",
    "    tweets = get_tweets(search_term, amount, lang, since)\n",
    "    \n",
    "    # Remove URLs\n",
    "    tweets_no_urls = [remove_url(tweet.text) for tweet in tweets]\n",
    "\n",
    "    # Create textblob objects of the tweets\n",
    "    sentiment_objects = [TextBlob(tweet) for tweet in tweets_no_urls]\n",
    "\n",
    "    # Check polarity\n",
    "    sentiment_values = [[tweet.sentiment.polarity, str(tweet)] for tweet in sentiment_objects]\n",
    "    \n",
    "    sentiment_df = pd.DataFrame(sentiment_values, columns=[\"polarity\", \"tweet\"])\n",
    "    \n",
    "    mean_sentiment = float(sentiment_df.mean())\n",
    "\n",
    "    show_result(mean_sentiment) \n",
    "    \n",
    "    \n",
    "except Exception as err:\n",
    "    status = 500\n",
    "    content_type = 'application/json'\n",
    "    print(json.dumps({ 'error': 'Cannot process request due to an error: {}'.format(err)}))"
   ]
  },
  {
   "cell_type": "code",
   "execution_count": null,
   "metadata": {
    "colab": {
     "base_uri": "https://localhost:8080/",
     "height": 375
    },
    "colab_type": "code",
    "id": "6hTAbZlJFbE7",
    "outputId": "43bb0bf8-62c4-4471-f77b-8d9e7669f28e"
   },
   "outputs": [],
   "source": [
    "\n"
   ]
  }
 ],
 "metadata": {
  "colab": {
   "collapsed_sections": [],
   "name": "sentiment_analysis.ipynb",
   "provenance": []
  },
  "kernelspec": {
   "display_name": "Python 3",
   "language": "python",
   "name": "python3"
  },
  "language_info": {
   "codemirror_mode": {
    "name": "ipython",
    "version": 3
   },
   "file_extension": ".py",
   "mimetype": "text/x-python",
   "name": "python",
   "nbconvert_exporter": "python",
   "pygments_lexer": "ipython3",
   "version": "3.7.1"
  }
 },
 "nbformat": 4,
 "nbformat_minor": 1
}
